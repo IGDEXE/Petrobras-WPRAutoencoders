{
 "cells": [
  {
   "cell_type": "markdown",
   "metadata": {},
   "source": [
    "# Training Set Generator\n",
    "\n",
    "Generates 20.000 synthetic formation tests to use as the training set"
   ]
  },
  {
   "cell_type": "code",
   "execution_count": 6,
   "metadata": {},
   "outputs": [],
   "source": [
    "import matplotlib.pyplot as plt\n",
    "import numpy as np\n",
    "import os\n",
    "import sys\n",
    "sys.path.append(\"../\")\n",
    "import RadialStorage\n",
    "from CaseGenerator import CaseGenerator\n",
    "from Utilities import calc_derivative"
   ]
  },
  {
   "cell_type": "markdown",
   "metadata": {},
   "source": [
    "### Available models"
   ]
  },
  {
   "cell_type": "code",
   "execution_count": 2,
   "metadata": {},
   "outputs": [],
   "source": [
    "models = [\n",
    "    \"infinite\", \n",
    "    \"1 barrier\", \n",
    "    \"corner\", \n",
    "    \"channel\", \n",
    "    \"u shaped\", \n",
    "    \"closed\", \n",
    "    \"radial storage\"\n",
    "]"
   ]
  },
  {
   "cell_type": "markdown",
   "metadata": {},
   "source": [
    "### Case generation function\n",
    "\n",
    "Randomizes several parameters and builds one of the selected models"
   ]
  },
  {
   "cell_type": "code",
   "execution_count": 4,
   "metadata": {},
   "outputs": [],
   "source": [
    "def gen_case():\n",
    "    n_grids = 41\n",
    "    rw = 0.108\n",
    "    q_ref = 15.9\n",
    "    k    = np.random.uniform(50, 1000)\n",
    "    por  = 0.2   # np.random.uniform(0.1, 0.3)\n",
    "    h    = np.random.uniform(10, 300)\n",
    "    ct   = 1e-5  # np.random.uniform(1e-6, 1e-5)\n",
    "    Bo   = np.random.uniform(1, 2)\n",
    "    visc = 1     # np.random.uniform(0.5, 2.0)\n",
    "    stor = np.random.uniform(1,500)/100\n",
    "    skin = np.random.uniform(-2, 5)\n",
    "    L1, L2, L3, L4 = (1000000, 1000000, 1000000, 1000000)\n",
    "    q = np.random.uniform(100,1000)\n",
    "\n",
    "    model = np.random.choice(models)\n",
    "    if model == \"1 barrier\":\n",
    "        L1 = np.random.uniform(10, 250)\n",
    "    elif model == \"corner\":\n",
    "        L1 = np.random.uniform(10, 250)\n",
    "        L2 = np.random.uniform(10, 250)\n",
    "    elif model == \"channel\":\n",
    "        L1 = np.random.uniform(10, 250)\n",
    "        L3 = np.random.uniform(10, 250)\n",
    "    elif model == \"u shaped\":\n",
    "        L1 = np.random.uniform(10, 250)\n",
    "        L2 = np.random.uniform(10, 250)\n",
    "        L3 = np.random.uniform(10, 250)\n",
    "    elif model == \"closed\":\n",
    "        L1 = np.random.uniform(10, 250)\n",
    "        L2 = np.random.uniform(10, 250)\n",
    "        L3 = np.random.uniform(10, 250)\n",
    "        L4 = np.random.uniform(10, 250)\n",
    "\n",
    "    t_max = np.random.uniform(1,3)\n",
    "    tk = np.logspace(-2.2,t_max+0.2,22)\n",
    "\n",
    "    if model == \"radial storage\":\n",
    "        dp_u = RadialStorage.calc_press(tk, k, por, h, ct, Bo, visc, q, skin, stor, rw)\n",
    "    else:\n",
    "        case = CaseGenerator(tk, k, por, h, ct, Bo, visc, q, skin, L1, L2, L3, L4, rw)\n",
    "        dp_u = case.create_dpu()\n",
    "    der_u = calc_derivative(tk, dp_u/q_ref, 0.0)\n",
    "\n",
    "    tk = tk[1:-1]\n",
    "    dp_u = dp_u[1:-1]\n",
    "    der_u = der_u[1:-1]\n",
    "    result = f\"{model},{k},{por},{h},{ct},{Bo},{visc},{q},{skin},{stor},{L1},{L2},{L3},{L4},{rw},\"\n",
    "    result += \",\".join([f\"{x}\" for x in tk]) + \",\"\n",
    "    result += \",\".join([f\"{x}\" for x in dp_u]) + \",\"\n",
    "    result += \",\".join([f\"{x}\" for x in der_u]) + \"\\n\"\n",
    "    return result, tk, dp_u, der_u"
   ]
  },
  {
   "cell_type": "markdown",
   "metadata": {},
   "source": [
    "### Single case test"
   ]
  },
  {
   "cell_type": "code",
   "execution_count": 5,
   "metadata": {},
   "outputs": [
    {
     "data": {
      "text/plain": [
       "[<matplotlib.lines.Line2D at 0x1850ae0be80>]"
      ]
     },
     "execution_count": 5,
     "metadata": {},
     "output_type": "execute_result"
    },
    {
     "data": {
      "image/png": "[encoded data removed]",
      "text/plain": [
       "<Figure size 432x288 with 1 Axes>"
      ]
     },
     "metadata": {
      "needs_background": "light"
     },
     "output_type": "display_data"
    }
   ],
   "source": [
    "data, tk, dp_u, der_u = gen_case()\n",
    "plt.loglog(tk, dp_u, \".\")\n",
    "plt.loglog(tk, der_u, \".\")"
   ]
  },
  {
   "cell_type": "markdown",
   "metadata": {},
   "source": [
    "### 20000 cases generation\n",
    "\n",
    "Cases are generated in 1000 increments to avoid memory overflow"
   ]
  },
  {
   "cell_type": "code",
   "execution_count": null,
   "metadata": {},
   "outputs": [],
   "source": [
    "if \"generated\" not in os.listdir():\n",
    "    os.mkdir(\"generated\")\n",
    "\n",
    "header = \"model,k,por,h,ct,Bo,visc,q,skin,stor,L1,L2,L3,L4,rw\"\n",
    "header += \"\".join([f\",t{i}\" for i in range(20)])\n",
    "header += \"\".join([f\",dp{i}\" for i in range(20)])\n",
    "header += \"\".join([f\",derp{i}\" for i in range(20)]) + \"\\n\"\n",
    "\n",
    "np.random.seed(100)\n",
    "for i in range(20):\n",
    "    lines = []\n",
    "    for x in range(1000):\n",
    "        data, tk, dp_u, der_u = gen_case()\n",
    "        lines.append(data)\n",
    "    with open(f\"generated/output_{i}.csv\", \"w\") as f:\n",
    "        f.write(header)\n",
    "        f.writelines(lines)"
   ]
  },
  {
   "cell_type": "markdown",
   "metadata": {},
   "source": [
    "### Unifying all generated output files\n",
    "\n",
    "Unifies all files in the generated folder into a single `tests_input.csv` file"
   ]
  },
  {
   "cell_type": "code",
   "execution_count": 114,
   "metadata": {},
   "outputs": [],
   "source": [
    "import os\n",
    "all_lines = []\n",
    "for i,filename in enumerate(os.listdir(\"generated\")):\n",
    "    with open(f\"generated/{filename}\") as f:\n",
    "        lines = f.readlines()\n",
    "        if i != 0:\n",
    "            lines = lines[1:]\n",
    "        all_lines += lines\n",
    "\n",
    "with open(\"tests_input.csv\", \"w\") as f:\n",
    "    f.writelines(all_lines)"
   ]
  }
 ],
 "metadata": {
  "kernelspec": {
   "display_name": "Python 3.8.3 ('base')",
   "language": "python",
   "name": "python3"
  },
  "language_info": {
   "codemirror_mode": {
    "name": "ipython",
    "version": 3
   },
   "file_extension": ".py",
   "mimetype": "text/x-python",
   "name": "python",
   "nbconvert_exporter": "python",
   "pygments_lexer": "ipython3",
   "version": "3.8.3"
  },
  "orig_nbformat": 4,
  "vscode": {
   "interpreter": {
    "hash": "ad2bdc8ecc057115af97d19610ffacc2b4e99fae6737bb82f5d7fb13d2f2c186"
   }
  }
 },
 "nbformat": 4,
 "nbformat_minor": 2
}
